{
 "cells": [
  {
   "cell_type": "code",
   "execution_count": 3,
   "id": "12f82da3",
   "metadata": {},
   "outputs": [
    {
     "name": "stdout",
     "output_type": "stream",
     "text": [
      "Chargement des données dans MySQL...\n",
      "Chargement de la table 'raw_customers'...\n",
      "Table 'raw_customers' chargée avec succès.\n",
      "Table 'raw_customers' telechargée avec succès.\n",
      "Chargement de la table 'raw_items'...\n",
      "Table 'raw_items' chargée avec succès.\n",
      "Table 'raw_items' telechargée avec succès.\n",
      "Chargement de la table 'raw_orders'...\n",
      "Table 'raw_orders' chargée avec succès.\n",
      "Table 'raw_orders' telechargée avec succès.\n",
      "Chargement de la table 'raw_products'...\n",
      "Table 'raw_products' chargée avec succès.\n",
      "Table 'raw_products' telechargée avec succès.\n",
      "Chargement de la table 'raw_stores'...\n",
      "Table 'raw_stores' chargée avec succès.\n",
      "Table 'raw_stores' telechargée avec succès.\n",
      "Chargement de la table 'raw_supplies'...\n",
      "Table 'raw_supplies' chargée avec succès.\n",
      "Table 'raw_supplies' telechargée avec succès.\n",
      "\n",
      "🚀 Toutes les données ont été chargées.\n"
     ]
    }
   ],
   "source": [
    "import pandas as pd\n",
    "from sqlalchemy import create_engine\n",
    "from sqlalchemy_utils import database_exists, create_database\n",
    "\n",
    "# Paramètres de connexion avec vos informations.\n",
    "# ==================================\n",
    "username = \"root\"\n",
    "password = \"Eleni23102021\" # <--- Votre nouveau mot de passe\n",
    "host = \"localhost\"\n",
    "port = 3306\n",
    "database = \"my_dbt_db\"\n",
    "# ==================================\n",
    "\n",
    "# On crée la connexion vers la base de données.\n",
    "DATABASE_URI = f'mysql+pymysql://{username}:{password}@{host}:{port}/{database}'\n",
    "engine = create_engine(DATABASE_URI)\n",
    "\n",
    "# On crée la base de données si elle n'existe pas.\n",
    "if not database_exists(engine.url):\n",
    "    print(f\"La base de données '{database}' n'existe pas. Création...\")\n",
    "    create_database(engine.url)\n",
    "    print(\"Base de données créée.\")\n",
    "\n",
    "# On crée un DataFrame pour chaque fichier CSV et on l'ajoute à MySQL.\n",
    "print(\"Chargement des données dans MySQL...\")\n",
    "liste_tables = [\"customers\", \"items\", \"orders\", \"products\", \"stores\", \"supplies\"]\n",
    "\n",
    "for table in liste_tables:\n",
    "   print(f\"Chargement de la table 'raw_{table}'...\")\n",
    "   csv_url = f\"https://raw.githubusercontent.com/dsteddy/jaffle_shop_data/main/raw_{table}.csv\"\n",
    "   df = pd.read_csv(csv_url)\n",
    "   df.to_sql(f\"raw_{table}\", engine, if_exists=\"replace\", index=False)\n",
    "   print(f\"Table 'raw_{table}' chargée avec succès.\")\n",
    "   df.to_csv(f'raw_{table}')\n",
    "   print(f\"Table 'raw_{table}' telechargée avec succès.\")\n",
    "\n",
    "print(\"\\n🚀 Toutes les données ont été chargées.\")"
   ]
  },
  {
   "cell_type": "code",
   "execution_count": null,
   "id": "fa4c90a1",
   "metadata": {},
   "outputs": [],
   "source": []
  }
 ],
 "metadata": {
  "kernelspec": {
   "display_name": "my-dbt-env",
   "language": "python",
   "name": "python3"
  },
  "language_info": {
   "codemirror_mode": {
    "name": "ipython",
    "version": 3
   },
   "file_extension": ".py",
   "mimetype": "text/x-python",
   "name": "python",
   "nbconvert_exporter": "python",
   "pygments_lexer": "ipython3",
   "version": "3.13.4"
  }
 },
 "nbformat": 4,
 "nbformat_minor": 5
}
